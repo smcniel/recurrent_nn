{
 "cells": [
  {
   "cell_type": "code",
   "execution_count": 1,
   "metadata": {
    "collapsed": false
   },
   "outputs": [
    {
     "name": "stderr",
     "output_type": "stream",
     "text": [
      "Using Theano backend.\n",
      "Using gpu device 0: GeForce GTX 980 Ti (CNMeM is enabled with initial size: 80.0% of memory, cuDNN 5105)\n"
     ]
    }
   ],
   "source": [
    "import sys\n",
    "import numpy as np\n",
    "from keras.models import Sequential\n",
    "from keras.layers import Dense\n",
    "from keras.layers import Dropout\n",
    "from keras.layers import LSTM\n",
    "from keras.callbacks import ModelCheckpoint\n",
    "from keras.utils import np_utils"
   ]
  },
  {
   "cell_type": "code",
   "execution_count": 2,
   "metadata": {
    "collapsed": true
   },
   "outputs": [],
   "source": [
    "# load the ascii text and convert to lowercase\n",
    "filename = \"./data/alice_wonderland.txt\"\n",
    "raw_text = open(filename).read()\n",
    "raw_text = raw_text.lower()"
   ]
  },
  {
   "cell_type": "code",
   "execution_count": 3,
   "metadata": {
    "collapsed": true
   },
   "outputs": [],
   "source": [
    "# map unique characters to integers\n",
    "chars = sorted(list(set(raw_text)))\n",
    "char_to_int = dict((c, i) for i, c in enumerate(chars))"
   ]
  },
  {
   "cell_type": "code",
   "execution_count": 4,
   "metadata": {
    "collapsed": false
   },
   "outputs": [
    {
     "name": "stdout",
     "output_type": "stream",
     "text": [
      "Total Characters:  144373\n",
      "Total unique:  45\n"
     ]
    }
   ],
   "source": [
    "num_chars = len(raw_text)\n",
    "num_unique_vocab = len(chars)\n",
    "print(\"Total Characters: \", num_chars)\n",
    "print(\"Total unique: \", num_unique_vocab)"
   ]
  },
  {
   "cell_type": "code",
   "execution_count": 5,
   "metadata": {
    "collapsed": true
   },
   "outputs": [],
   "source": [
    "# prepare the dataset of input to output pairs encoded as integers\n",
    "# split into subsequences of fixed character length.\n",
    "# can also split data up by sentences. pad shorter ones. truncate longer ones.\n",
    "seq_len = 100\n",
    "dataX = []\n",
    "dataY = []\n",
    "for i in range(0, num_chars - seq_len, 1):\n",
    "    seq_in = raw_text[i:i + seq_len]\n",
    "    seq_out = raw_text[i + seq_len]\n",
    "    dataX.append([char_to_int[char] for char in seq_in])\n",
    "    dataY.append(char_to_int[seq_out])\n",
    "num_patterns = len(dataX)"
   ]
  },
  {
   "cell_type": "code",
   "execution_count": 6,
   "metadata": {
    "collapsed": true
   },
   "outputs": [],
   "source": [
    "# reshape X to be [samples, time steps, features]\n",
    "X = np.reshape(dataX, (num_patterns, seq_len, 1))"
   ]
  },
  {
   "cell_type": "code",
   "execution_count": 7,
   "metadata": {
    "collapsed": false
   },
   "outputs": [
    {
     "data": {
      "text/plain": [
       "(144273, 100, 1)"
      ]
     },
     "execution_count": 7,
     "metadata": {},
     "output_type": "execute_result"
    }
   ],
   "source": [
    "np.shape(X)"
   ]
  },
  {
   "cell_type": "code",
   "execution_count": 8,
   "metadata": {
    "collapsed": true
   },
   "outputs": [],
   "source": [
    "# normalize\n",
    "# LSTM uses sigmoid activation by default so needs range of 0 - 1\n",
    "X = X/float(num_unique_vocab)"
   ]
  },
  {
   "cell_type": "code",
   "execution_count": 9,
   "metadata": {
    "collapsed": true
   },
   "outputs": [],
   "source": [
    "# one hot encode the output variable\n",
    "y = np_utils.to_categorical(dataY)"
   ]
  },
  {
   "cell_type": "code",
   "execution_count": 10,
   "metadata": {
    "collapsed": true
   },
   "outputs": [],
   "source": [
    "# define the LSTM model\n",
    "# two hidden LSTM layers with 256 memory units\n",
    "# dropout probability of 20\n",
    "# output layer is Dense layer using softmax activation function with ADAM optimizer\n",
    "model = Sequential()\n",
    "model.add(LSTM(256, input_shape=(X.shape[1], X.shape[2]), return_sequences=True))\n",
    "model.add(Dropout(0.2))\n",
    "model.add(LSTM(256))\n",
    "model.add(Dropout(0.2))\n",
    "model.add(Dense(y.shape[1], activation='softmax'))\n",
    "model.compile(loss='categorical_crossentropy', optimizer='adam')"
   ]
  },
  {
   "cell_type": "code",
   "execution_count": 11,
   "metadata": {
    "collapsed": false
   },
   "outputs": [],
   "source": [
    "# define the checkpoint\n",
    "filepath=\"weights-improvement-{epoch:02d}-{loss:.4f}-twolayers.hdf5\"\n",
    "checkpoint = ModelCheckpoint(filepath, monitor='loss', verbose=1, save_best_only=True, mode='min')\n",
    "callbacks_list = [checkpoint]"
   ]
  },
  {
   "cell_type": "code",
   "execution_count": 12,
   "metadata": {
    "collapsed": false
   },
   "outputs": [
    {
     "name": "stdout",
     "output_type": "stream",
     "text": [
      "Epoch 1/50\n",
      "144256/144273 [============================>.] - ETA: 0s - loss: 2.8438Epoch 00000: loss improved from inf to 2.84379, saving model to weights-improvement-00-2.8438-twolayers.hdf5\n",
      "144273/144273 [==============================] - 534s - loss: 2.8438   \n",
      "Epoch 2/50\n",
      "144256/144273 [============================>.] - ETA: 0s - loss: 2.4593Epoch 00001: loss improved from 2.84379 to 2.45922, saving model to weights-improvement-01-2.4592-twolayers.hdf5\n",
      "144273/144273 [==============================] - 533s - loss: 2.4592   \n",
      "Epoch 3/50\n",
      "144256/144273 [============================>.] - ETA: 0s - loss: 2.3113Epoch 00002: loss improved from 2.45922 to 2.31124, saving model to weights-improvement-02-2.3112-twolayers.hdf5\n",
      "144273/144273 [==============================] - 533s - loss: 2.3112   \n",
      "Epoch 4/50\n",
      "144256/144273 [============================>.] - ETA: 0s - loss: 2.1236Epoch 00003: loss improved from 2.31124 to 2.12353, saving model to weights-improvement-03-2.1235-twolayers.hdf5\n",
      "144273/144273 [==============================] - 533s - loss: 2.1235   \n",
      "Epoch 5/50\n",
      "144256/144273 [============================>.] - ETA: 0s - loss: 2.0226Epoch 00004: loss improved from 2.12353 to 2.02268, saving model to weights-improvement-04-2.0227-twolayers.hdf5\n",
      "144273/144273 [==============================] - 533s - loss: 2.0227   \n",
      "Epoch 6/50\n",
      "144256/144273 [============================>.] - ETA: 0s - loss: 1.9449Epoch 00005: loss improved from 2.02268 to 1.94490, saving model to weights-improvement-05-1.9449-twolayers.hdf5\n",
      "144273/144273 [==============================] - 533s - loss: 1.9449   \n",
      "Epoch 7/50\n",
      "144256/144273 [============================>.] - ETA: 0s - loss: 1.8851Epoch 00006: loss improved from 1.94490 to 1.88515, saving model to weights-improvement-06-1.8852-twolayers.hdf5\n",
      "144273/144273 [==============================] - 533s - loss: 1.8852   \n",
      "Epoch 8/50\n",
      "144256/144273 [============================>.] - ETA: 0s - loss: 1.8290Epoch 00007: loss improved from 1.88515 to 1.82910, saving model to weights-improvement-07-1.8291-twolayers.hdf5\n",
      "144273/144273 [==============================] - 534s - loss: 1.8291   \n",
      "Epoch 9/50\n",
      "144256/144273 [============================>.] - ETA: 0s - loss: 1.7820Epoch 00008: loss improved from 1.82910 to 1.78197, saving model to weights-improvement-08-1.7820-twolayers.hdf5\n",
      "144273/144273 [==============================] - 532s - loss: 1.7820   \n",
      "Epoch 10/50\n",
      "144256/144273 [============================>.] - ETA: 0s - loss: 1.7396Epoch 00009: loss improved from 1.78197 to 1.73955, saving model to weights-improvement-09-1.7396-twolayers.hdf5\n",
      "144273/144273 [==============================] - 532s - loss: 1.7396   \n",
      "Epoch 11/50\n",
      "144256/144273 [============================>.] - ETA: 0s - loss: 1.7110Epoch 00010: loss improved from 1.73955 to 1.71094, saving model to weights-improvement-10-1.7109-twolayers.hdf5\n",
      "144273/144273 [==============================] - 533s - loss: 1.7109   \n",
      "Epoch 12/50\n",
      "144256/144273 [============================>.] - ETA: 0s - loss: 1.6687Epoch 00011: loss improved from 1.71094 to 1.66876, saving model to weights-improvement-11-1.6688-twolayers.hdf5\n",
      "144273/144273 [==============================] - 532s - loss: 1.6688   \n",
      "Epoch 13/50\n",
      "144256/144273 [============================>.] - ETA: 0s - loss: 1.6411Epoch 00012: loss improved from 1.66876 to 1.64104, saving model to weights-improvement-12-1.6410-twolayers.hdf5\n",
      "144273/144273 [==============================] - 532s - loss: 1.6410   \n",
      "Epoch 14/50\n",
      "144256/144273 [============================>.] - ETA: 0s - loss: 1.6105Epoch 00013: loss improved from 1.64104 to 1.61044, saving model to weights-improvement-13-1.6104-twolayers.hdf5\n",
      "144273/144273 [==============================] - 531s - loss: 1.6104   \n",
      "Epoch 15/50\n",
      "144256/144273 [============================>.] - ETA: 0s - loss: 1.5871Epoch 00014: loss improved from 1.61044 to 1.58712, saving model to weights-improvement-14-1.5871-twolayers.hdf5\n",
      "144273/144273 [==============================] - 531s - loss: 1.5871   \n",
      "Epoch 16/50\n",
      "144256/144273 [============================>.] - ETA: 0s - loss: 1.5647Epoch 00015: loss improved from 1.58712 to 1.56467, saving model to weights-improvement-15-1.5647-twolayers.hdf5\n",
      "144273/144273 [==============================] - 531s - loss: 1.5647   \n",
      "Epoch 17/50\n",
      "144256/144273 [============================>.] - ETA: 0s - loss: 1.5438Epoch 00016: loss improved from 1.56467 to 1.54369, saving model to weights-improvement-16-1.5437-twolayers.hdf5\n",
      "144273/144273 [==============================] - 531s - loss: 1.5437   \n",
      "Epoch 18/50\n",
      "144256/144273 [============================>.] - ETA: 0s - loss: 1.5207Epoch 00017: loss improved from 1.54369 to 1.52079, saving model to weights-improvement-17-1.5208-twolayers.hdf5\n",
      "144273/144273 [==============================] - 533s - loss: 1.5208   \n",
      "Epoch 19/50\n",
      "144256/144273 [============================>.] - ETA: 0s - loss: 1.5012Epoch 00018: loss improved from 1.52079 to 1.50123, saving model to weights-improvement-18-1.5012-twolayers.hdf5\n",
      "144273/144273 [==============================] - 533s - loss: 1.5012   \n",
      "Epoch 20/50\n",
      "144256/144273 [============================>.] - ETA: 0s - loss: 1.4826Epoch 00019: loss improved from 1.50123 to 1.48251, saving model to weights-improvement-19-1.4825-twolayers.hdf5\n",
      "144273/144273 [==============================] - 532s - loss: 1.4825   \n",
      "Epoch 21/50\n",
      "144256/144273 [============================>.] - ETA: 0s - loss: 1.4687Epoch 00020: loss improved from 1.48251 to 1.46866, saving model to weights-improvement-20-1.4687-twolayers.hdf5\n",
      "144273/144273 [==============================] - 531s - loss: 1.4687   \n",
      "Epoch 22/50\n",
      "144256/144273 [============================>.] - ETA: 0s - loss: 1.4530Epoch 00021: loss improved from 1.46866 to 1.45303, saving model to weights-improvement-21-1.4530-twolayers.hdf5\n",
      "144273/144273 [==============================] - 531s - loss: 1.4530   \n",
      "Epoch 23/50\n",
      "144256/144273 [============================>.] - ETA: 0s - loss: 1.4405Epoch 00022: loss improved from 1.45303 to 1.44052, saving model to weights-improvement-22-1.4405-twolayers.hdf5\n",
      "144273/144273 [==============================] - 531s - loss: 1.4405   \n",
      "Epoch 24/50\n",
      "144256/144273 [============================>.] - ETA: 0s - loss: 1.4284Epoch 00023: loss improved from 1.44052 to 1.42842, saving model to weights-improvement-23-1.4284-twolayers.hdf5\n",
      "144273/144273 [==============================] - 531s - loss: 1.4284   \n",
      "Epoch 25/50\n",
      "144256/144273 [============================>.] - ETA: 0s - loss: 1.4145Epoch 00024: loss improved from 1.42842 to 1.41451, saving model to weights-improvement-24-1.4145-twolayers.hdf5\n",
      "144273/144273 [==============================] - 531s - loss: 1.4145   \n",
      "Epoch 26/50\n",
      "144256/144273 [============================>.] - ETA: 0s - loss: 1.3986Epoch 00025: loss improved from 1.41451 to 1.39853, saving model to weights-improvement-25-1.3985-twolayers.hdf5\n",
      "144273/144273 [==============================] - 530s - loss: 1.3985   \n",
      "Epoch 27/50\n",
      "144256/144273 [============================>.] - ETA: 0s - loss: 1.3896Epoch 00026: loss improved from 1.39853 to 1.38968, saving model to weights-improvement-26-1.3897-twolayers.hdf5\n",
      "144273/144273 [==============================] - 531s - loss: 1.3897   \n",
      "Epoch 28/50\n",
      "144256/144273 [============================>.] - ETA: 0s - loss: 1.3808Epoch 00027: loss improved from 1.38968 to 1.38076, saving model to weights-improvement-27-1.3808-twolayers.hdf5\n",
      "144273/144273 [==============================] - 531s - loss: 1.3808   \n",
      "Epoch 29/50\n",
      "144256/144273 [============================>.] - ETA: 0s - loss: 1.3722Epoch 00028: loss improved from 1.38076 to 1.37214, saving model to weights-improvement-28-1.3721-twolayers.hdf5\n",
      "144273/144273 [==============================] - 532s - loss: 1.3721   \n",
      "Epoch 30/50\n",
      "144256/144273 [============================>.] - ETA: 0s - loss: 1.5323Epoch 00029: loss did not improve\n",
      "144273/144273 [==============================] - 532s - loss: 1.5323   \n",
      "Epoch 31/50\n",
      "144256/144273 [============================>.] - ETA: 0s - loss: 1.4555Epoch 00030: loss did not improve\n",
      "144273/144273 [==============================] - 532s - loss: 1.4554   \n",
      "Epoch 32/50\n",
      "144256/144273 [============================>.] - ETA: 0s - loss: 1.4134Epoch 00031: loss did not improve\n",
      "144273/144273 [==============================] - 532s - loss: 1.4134   \n",
      "Epoch 33/50\n",
      "144256/144273 [============================>.] - ETA: 0s - loss: 1.3823Epoch 00032: loss did not improve\n",
      "144273/144273 [==============================] - 532s - loss: 1.3824   \n",
      "Epoch 34/50\n",
      "144256/144273 [============================>.] - ETA: 0s - loss: 1.3588Epoch 00033: loss improved from 1.37214 to 1.35879, saving model to weights-improvement-33-1.3588-twolayers.hdf5\n",
      "144273/144273 [==============================] - 532s - loss: 1.3588   \n",
      "Epoch 35/50\n",
      "144256/144273 [============================>.] - ETA: 0s - loss: 1.3395Epoch 00034: loss improved from 1.35879 to 1.33959, saving model to weights-improvement-34-1.3396-twolayers.hdf5\n",
      "144273/144273 [==============================] - 532s - loss: 1.3396   \n",
      "Epoch 36/50\n",
      "144256/144273 [============================>.] - ETA: 0s - loss: 1.3305Epoch 00035: loss improved from 1.33959 to 1.33052, saving model to weights-improvement-35-1.3305-twolayers.hdf5\n",
      "144273/144273 [==============================] - 532s - loss: 1.3305   \n",
      "Epoch 37/50\n",
      "144256/144273 [============================>.] - ETA: 0s - loss: 1.3281Epoch 00036: loss improved from 1.33052 to 1.32806, saving model to weights-improvement-36-1.3281-twolayers.hdf5\n",
      "144273/144273 [==============================] - 532s - loss: 1.3281   \n",
      "Epoch 38/50\n",
      "144256/144273 [============================>.] - ETA: 0s - loss: 1.3278Epoch 00037: loss improved from 1.32806 to 1.32780, saving model to weights-improvement-37-1.3278-twolayers.hdf5\n",
      "144273/144273 [==============================] - 533s - loss: 1.3278   \n",
      "Epoch 39/50\n",
      "144256/144273 [============================>.] - ETA: 0s - loss: 1.3199Epoch 00038: loss improved from 1.32780 to 1.31999, saving model to weights-improvement-38-1.3200-twolayers.hdf5\n",
      "144273/144273 [==============================] - 531s - loss: 1.3200   \n",
      "Epoch 40/50\n",
      "144256/144273 [============================>.] - ETA: 0s - loss: 1.3144Epoch 00039: loss improved from 1.31999 to 1.31444, saving model to weights-improvement-39-1.3144-twolayers.hdf5\n",
      "144273/144273 [==============================] - 531s - loss: 1.3144   \n",
      "Epoch 41/50\n",
      "144256/144273 [============================>.] - ETA: 0s - loss: 1.3062Epoch 00040: loss improved from 1.31444 to 1.30626, saving model to weights-improvement-40-1.3063-twolayers.hdf5\n",
      "144273/144273 [==============================] - 532s - loss: 1.3063   \n",
      "Epoch 42/50\n",
      "144256/144273 [============================>.] - ETA: 0s - loss: 1.4157Epoch 00041: loss did not improve\n",
      "144273/144273 [==============================] - 532s - loss: 1.4158   \n",
      "Epoch 43/50\n",
      "144256/144273 [============================>.] - ETA: 0s - loss: 1.7111Epoch 00042: loss did not improve\n",
      "144273/144273 [==============================] - 532s - loss: 1.7110   \n",
      "Epoch 44/50\n",
      "144256/144273 [============================>.] - ETA: 0s - loss: 1.7046Epoch 00043: loss did not improve\n",
      "144273/144273 [==============================] - 530s - loss: 1.7046   \n",
      "Epoch 45/50\n",
      "144256/144273 [============================>.] - ETA: 0s - loss: 1.6779Epoch 00044: loss did not improve\n",
      "144273/144273 [==============================] - 531s - loss: 1.6780   \n",
      "Epoch 46/50\n",
      "144256/144273 [============================>.] - ETA: 0s - loss: 1.6703Epoch 00045: loss did not improve\n",
      "144273/144273 [==============================] - 531s - loss: 1.6703   \n",
      "Epoch 47/50\n",
      "144256/144273 [============================>.] - ETA: 0s - loss: 1.5754Epoch 00046: loss did not improve\n",
      "144273/144273 [==============================] - 531s - loss: 1.5754   \n",
      "Epoch 48/50\n",
      "144256/144273 [============================>.] - ETA: 0s - loss: 1.4997Epoch 00047: loss did not improve\n",
      "144273/144273 [==============================] - 530s - loss: 1.4998   \n",
      "Epoch 49/50\n",
      "144256/144273 [============================>.] - ETA: 0s - loss: 1.3834Epoch 00048: loss did not improve\n",
      "144273/144273 [==============================] - 530s - loss: 1.3834   \n",
      "Epoch 50/50\n",
      "144256/144273 [============================>.] - ETA: 0s - loss: 1.3080Epoch 00049: loss did not improve\n",
      "144273/144273 [==============================] - 531s - loss: 1.3080   \n",
      "26654.400902334124\n"
     ]
    }
   ],
   "source": [
    "# time execution and fit model\n",
    "import timeit\n",
    "start = timeit.default_timer()\n",
    "\n",
    "model.fit(X, y, nb_epoch=50, batch_size=64, callbacks=callbacks_list)\n",
    "\n",
    "stop = timeit.default_timer()\n",
    "print(stop - start) "
   ]
  },
  {
   "cell_type": "code",
   "execution_count": null,
   "metadata": {
    "collapsed": true
   },
   "outputs": [],
   "source": []
  }
 ],
 "metadata": {
  "anaconda-cloud": {},
  "kernelspec": {
   "display_name": "Python [conda root]",
   "language": "python",
   "name": "conda-root-py"
  },
  "language_info": {
   "codemirror_mode": {
    "name": "ipython",
    "version": 3
   },
   "file_extension": ".py",
   "mimetype": "text/x-python",
   "name": "python",
   "nbconvert_exporter": "python",
   "pygments_lexer": "ipython3",
   "version": "3.5.2"
  }
 },
 "nbformat": 4,
 "nbformat_minor": 1
}
